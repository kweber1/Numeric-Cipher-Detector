{
  "nbformat": 4,
  "nbformat_minor": 0,
  "metadata": {
    "colab": {
      "provenance": [],
      "authorship_tag": "ABX9TyPkf36lxMWTcWothnacLnHK",
      "include_colab_link": true
    },
    "kernelspec": {
      "name": "python3",
      "display_name": "Python 3"
    },
    "language_info": {
      "name": "python"
    }
  },
  "cells": [
    {
      "cell_type": "markdown",
      "metadata": {
        "id": "view-in-github",
        "colab_type": "text"
      },
      "source": [
        "<a href=\"https://colab.research.google.com/github/kweber1/NumericCipherDetector/blob/main/NumericCipherDetector.ipynb\" target=\"_parent\"><img src=\"https://colab.research.google.com/assets/colab-badge.svg\" alt=\"Open In Colab\"/></a>"
      ]
    },
    {
      "cell_type": "code",
      "execution_count": 8,
      "metadata": {
        "colab": {
          "base_uri": "https://localhost:8080/"
        },
        "id": "6Q2DC7Iur-zM",
        "outputId": "b7aba0f5-61db-4c4a-bd5c-9d4432cca721"
      },
      "outputs": [
        {
          "output_type": "stream",
          "name": "stdout",
          "text": [
            "Requirement already satisfied: scipy in /usr/local/lib/python3.10/dist-packages (1.13.1)\n",
            "Requirement already satisfied: numpy<2.3,>=1.22.4 in /usr/local/lib/python3.10/dist-packages (from scipy) (1.26.4)\n",
            "Requirement already satisfied: torch in /usr/local/lib/python3.10/dist-packages (2.4.1+cu121)\n",
            "Requirement already satisfied: torchaudio in /usr/local/lib/python3.10/dist-packages (2.4.1+cu121)\n",
            "Requirement already satisfied: torchvision in /usr/local/lib/python3.10/dist-packages (0.19.1+cu121)\n",
            "Requirement already satisfied: torchtext in /usr/local/lib/python3.10/dist-packages (0.18.0)\n",
            "Requirement already satisfied: torchdata in /usr/local/lib/python3.10/dist-packages (0.8.0)\n",
            "Requirement already satisfied: filelock in /usr/local/lib/python3.10/dist-packages (from torch) (3.16.1)\n",
            "Requirement already satisfied: typing-extensions>=4.8.0 in /usr/local/lib/python3.10/dist-packages (from torch) (4.12.2)\n",
            "Requirement already satisfied: sympy in /usr/local/lib/python3.10/dist-packages (from torch) (1.13.3)\n",
            "Requirement already satisfied: networkx in /usr/local/lib/python3.10/dist-packages (from torch) (3.3)\n",
            "Requirement already satisfied: jinja2 in /usr/local/lib/python3.10/dist-packages (from torch) (3.1.4)\n",
            "Requirement already satisfied: fsspec in /usr/local/lib/python3.10/dist-packages (from torch) (2024.6.1)\n",
            "Requirement already satisfied: numpy in /usr/local/lib/python3.10/dist-packages (from torchvision) (1.26.4)\n",
            "Requirement already satisfied: pillow!=8.3.*,>=5.3.0 in /usr/local/lib/python3.10/dist-packages (from torchvision) (10.4.0)\n",
            "Requirement already satisfied: tqdm in /usr/local/lib/python3.10/dist-packages (from torchtext) (4.66.5)\n",
            "Requirement already satisfied: requests in /usr/local/lib/python3.10/dist-packages (from torchtext) (2.32.3)\n",
            "Requirement already satisfied: urllib3>=1.25 in /usr/local/lib/python3.10/dist-packages (from torchdata) (2.2.3)\n",
            "Requirement already satisfied: MarkupSafe>=2.0 in /usr/local/lib/python3.10/dist-packages (from jinja2->torch) (2.1.5)\n",
            "Requirement already satisfied: charset-normalizer<4,>=2 in /usr/local/lib/python3.10/dist-packages (from requests->torchtext) (3.3.2)\n",
            "Requirement already satisfied: idna<4,>=2.5 in /usr/local/lib/python3.10/dist-packages (from requests->torchtext) (3.10)\n",
            "Requirement already satisfied: certifi>=2017.4.17 in /usr/local/lib/python3.10/dist-packages (from requests->torchtext) (2024.8.30)\n",
            "Requirement already satisfied: mpmath<1.4,>=1.1.0 in /usr/local/lib/python3.10/dist-packages (from sympy->torch) (1.3.0)\n",
            "fatal: destination path 'NumericCipherDetector' already exists and is not an empty directory.\n",
            "Downloading...\n",
            "From (original): https://drive.google.com/uc?id=1qauVAh2QU7NTDgPf4x-ApvKigYww-Xir\n",
            "From (redirected): https://drive.google.com/uc?id=1qauVAh2QU7NTDgPf4x-ApvKigYww-Xir&confirm=t&uuid=33c4dccb-bcb8-42de-8b6d-a5eafe4c3172\n",
            "To: /content/NumericCipherDetector/Transformer_11_out_1\n",
            "100% 170M/170M [00:01<00:00, 154MB/s]\n"
          ]
        },
        {
          "output_type": "stream",
          "name": "stderr",
          "text": [
            "<ipython-input-8-53713ad14d68>:12: FutureWarning: You are using `torch.load` with `weights_only=False` (the current default value), which uses the default pickle module implicitly. It is possible to construct malicious pickle data which will execute arbitrary code during unpickling (See https://github.com/pytorch/pytorch/blob/main/SECURITY.md#untrusted-models for more details). In a future release, the default value for `weights_only` will be flipped to `True`. This limits the functions that could be executed during unpickling. Arbitrary objects will no longer be allowed to be loaded via this mode unless they are explicitly allowlisted by the user via `torch.serialization.add_safe_globals`. We recommend you start setting `weights_only=True` for any use case where you don't have full control of the loaded file. Please open an issue on GitHub for any issues related to this experimental feature.\n",
            "  model = torch.load(\"NumericCipherDetector/Transformer_11_out_1\", map_location=torch.device('cpu'))\n"
          ]
        }
      ],
      "source": [
        "#install packages and load model\n",
        "\n",
        "%pip install scipy\n",
        "!pip3 install torch torchaudio torchvision torchtext torchdata\n",
        "!git clone https://github.com/kweber1/NumericCipherDetector.git\n",
        "!gdown --fuzzy \"https://drive.google.com/file/d/1k0askL3jEhCijb5fqyRm-9Tl2GdgkMel/view?usp=sharing" -O \"NumericCipherDetector/Transformer_11_out_1\"\n",
        "import torch\n",
        "import re\n",
        "from NumericCipherDetector.CipherTransformer import CipherTransformer\n",
        "import numpy as np\n",
        "from NumericCipherDetector.CipherTransformer import get_stats\n",
        "model = torch.load(\"NumericCipherDetector/Transformer_11_out_1\", map_location=torch.device('cpu'))\n"
      ]
    },
    {
      "cell_type": "code",
      "source": [
        "#Enter you cipher text below (only numbers allowed):\n",
        "#Please try to limit it to 1000 chars!\n",
        "cipher_text = \"3245436348239573496035467534536457\"\n",
        "\n",
        "\n",
        "\n",
        "#formatting\n",
        "cipher_text = cipher_text.replace(\" \", \"\").upper()\n",
        "cipher_text = re.sub('\\D', '', cipher_text)\n",
        "print(\"Your cleaned text: \", cipher_text + \"\\n\\n\")\n",
        "if len(cipher_text) >= 1000:\n",
        "  cipher_text = cipher_text[0:1000]\n",
        "cipher_encoded = []\n",
        "encoding = cipher_text + (\"X\"*(1000-len(cipher_text)))\n",
        "encoding = [-1 if item == \"X\" else int(item) for item in list(encoding)]\n",
        "cipher_encoded = [torch.tensor(encoding,dtype=torch.float32).to(torch.device('cpu')),torch.tensor(get_stats(encoding),dtype=torch.float32).to(torch.device('cpu'))]\n",
        "\n",
        "ciphers = [\"Grandpre\", \"MonomeDinome-3X10\", \"Morbit\", \"Pollux\", \"Checkerboard\", \"Nihlist\", \"Tridigital\", \"Homophonic\", \"Letters to Numbers\", \"Polybius Square\", \"Nihlist mod 100\", \"MonomeDinome-3X8\",  \"Random ints\"]\n",
        "model.eval()\n",
        "out = \"\"\n",
        "with torch.no_grad():\n",
        "  out = model(cipher_encoded[0],cipher_encoded[1])\n",
        "  for index, number in enumerate(out):\n",
        "    print(f\"{ciphers[index]} : {number:.2f}\")\n",
        "print(\"\\n\\n----------------\\n\\n\")\n",
        "print(\"Top 4 cipher types:\")\n",
        "print(\"\\n\".join([ciphers[x] for x in np.argsort(-np.array(out))[0:4]]))\n"
      ],
      "metadata": {
        "id": "1vDyRxUYsfYJ",
        "outputId": "2b0a5215-9002-44f2-82cc-37dc6594939d",
        "colab": {
          "base_uri": "https://localhost:8080/"
        }
      },
      "execution_count": 19,
      "outputs": [
        {
          "output_type": "stream",
          "name": "stdout",
          "text": [
            "Your cleaned text:  3245436348239573496035467534536457\n",
            "\n",
            "\n",
            "Grandpre : 0.04\n",
            "MonomeDinome-3X10 : 0.03\n",
            "Morbit : -0.01\n",
            "Pollux : -0.06\n",
            "Checkerboard : 0.14\n",
            "Nihlist : 0.01\n",
            "Tridigital : 0.06\n",
            "Homophonic : 0.00\n",
            "Letters to Numbers : -0.01\n",
            "Polybius Square : 0.01\n",
            "Nihlist mod 100 : 0.01\n",
            "MonomeDinome-3X8 : 0.11\n",
            "Random ints : 0.69\n",
            "\n",
            "\n",
            "----------------\n",
            "\n",
            "\n",
            "Top 4 cipher types:\n",
            "Random ints\n",
            "Checkerboard\n",
            "MonomeDinome-3X8\n",
            "Tridigital\n"
          ]
        }
      ]
    }
  ]
}
