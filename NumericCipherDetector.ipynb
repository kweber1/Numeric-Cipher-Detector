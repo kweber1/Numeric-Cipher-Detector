{
  "nbformat": 4,
  "nbformat_minor": 0,
  "metadata": {
    "colab": {
      "provenance": [],
      "authorship_tag": "ABX9TyOuXcosVehp8kbEQK+15IMQ",
      "include_colab_link": true
    },
    "kernelspec": {
      "name": "python3",
      "display_name": "Python 3"
    },
    "language_info": {
      "name": "python"
    }
  },
  "cells": [
    {
      "cell_type": "markdown",
      "metadata": {
        "id": "view-in-github",
        "colab_type": "text"
      },
      "source": [
        "<a href=\"https://colab.research.google.com/github/kweber1/NumericCipherDetector/blob/main/NumericCipherDetector.ipynb\" target=\"_parent\"><img src=\"https://colab.research.google.com/assets/colab-badge.svg\" alt=\"Open In Colab\"/></a>"
      ]
    },
    {
      "cell_type": "code",
      "execution_count": 33,
      "metadata": {
        "colab": {
          "base_uri": "https://localhost:8080/"
        },
        "id": "6Q2DC7Iur-zM",
        "outputId": "f10b7a27-0384-4600-8bd9-a5a199e52b6b"
      },
      "outputs": [
        {
          "output_type": "stream",
          "name": "stdout",
          "text": [
            "Requirement already satisfied: scipy in /usr/local/lib/python3.10/dist-packages (1.13.1)\n",
            "Requirement already satisfied: numpy<2.3,>=1.22.4 in /usr/local/lib/python3.10/dist-packages (from scipy) (1.26.4)\n",
            "Requirement already satisfied: torch in /usr/local/lib/python3.10/dist-packages (2.4.1+cu121)\n",
            "Requirement already satisfied: torchaudio in /usr/local/lib/python3.10/dist-packages (2.4.1+cu121)\n",
            "Requirement already satisfied: torchvision in /usr/local/lib/python3.10/dist-packages (0.19.1+cu121)\n",
            "Requirement already satisfied: torchtext in /usr/local/lib/python3.10/dist-packages (0.18.0)\n",
            "Requirement already satisfied: torchdata in /usr/local/lib/python3.10/dist-packages (0.8.0)\n",
            "Requirement already satisfied: filelock in /usr/local/lib/python3.10/dist-packages (from torch) (3.16.1)\n",
            "Requirement already satisfied: typing-extensions>=4.8.0 in /usr/local/lib/python3.10/dist-packages (from torch) (4.12.2)\n",
            "Requirement already satisfied: sympy in /usr/local/lib/python3.10/dist-packages (from torch) (1.13.3)\n",
            "Requirement already satisfied: networkx in /usr/local/lib/python3.10/dist-packages (from torch) (3.3)\n",
            "Requirement already satisfied: jinja2 in /usr/local/lib/python3.10/dist-packages (from torch) (3.1.4)\n",
            "Requirement already satisfied: fsspec in /usr/local/lib/python3.10/dist-packages (from torch) (2024.6.1)\n",
            "Requirement already satisfied: numpy in /usr/local/lib/python3.10/dist-packages (from torchvision) (1.26.4)\n",
            "Requirement already satisfied: pillow!=8.3.*,>=5.3.0 in /usr/local/lib/python3.10/dist-packages (from torchvision) (10.4.0)\n",
            "Requirement already satisfied: tqdm in /usr/local/lib/python3.10/dist-packages (from torchtext) (4.66.5)\n",
            "Requirement already satisfied: requests in /usr/local/lib/python3.10/dist-packages (from torchtext) (2.32.3)\n",
            "Requirement already satisfied: urllib3>=1.25 in /usr/local/lib/python3.10/dist-packages (from torchdata) (2.2.3)\n",
            "Requirement already satisfied: MarkupSafe>=2.0 in /usr/local/lib/python3.10/dist-packages (from jinja2->torch) (2.1.5)\n",
            "Requirement already satisfied: charset-normalizer<4,>=2 in /usr/local/lib/python3.10/dist-packages (from requests->torchtext) (3.3.2)\n",
            "Requirement already satisfied: idna<4,>=2.5 in /usr/local/lib/python3.10/dist-packages (from requests->torchtext) (3.10)\n",
            "Requirement already satisfied: certifi>=2017.4.17 in /usr/local/lib/python3.10/dist-packages (from requests->torchtext) (2024.8.30)\n",
            "Requirement already satisfied: mpmath<1.4,>=1.1.0 in /usr/local/lib/python3.10/dist-packages (from sympy->torch) (1.3.0)\n",
            "fatal: destination path 'NumericCipherDetector' already exists and is not an empty directory.\n"
          ]
        },
        {
          "output_type": "stream",
          "name": "stderr",
          "text": [
            "<ipython-input-33-9d0ba474ca18>:9: FutureWarning: You are using `torch.load` with `weights_only=False` (the current default value), which uses the default pickle module implicitly. It is possible to construct malicious pickle data which will execute arbitrary code during unpickling (See https://github.com/pytorch/pytorch/blob/main/SECURITY.md#untrusted-models for more details). In a future release, the default value for `weights_only` will be flipped to `True`. This limits the functions that could be executed during unpickling. Arbitrary objects will no longer be allowed to be loaded via this mode unless they are explicitly allowlisted by the user via `torch.serialization.add_safe_globals`. We recommend you start setting `weights_only=True` for any use case where you don't have full control of the loaded file. Please open an issue on GitHub for any issues related to this experimental feature.\n",
            "  model = torch.load(\"NumericCipherDetector/Transformer_11_out_1\", map_location=torch.device('cpu'))\n"
          ]
        }
      ],
      "source": [
        "#install packages and load model\n",
        "\n",
        "%pip install scipy\n",
        "!pip3 install torch torchaudio torchvision torchtext torchdata\n",
        "!git clone https://github.com/kweber1/NumericCipherDetector.git\n",
        "import torch\n",
        "import re\n",
        "from NumericCipherDetector.CipherTransformer import CipherTransformer\n",
        "model = torch.load(\"NumericCipherDetector/Transformer_11_out_1\", map_location=torch.device('cpu'))\n"
      ]
    },
    {
      "cell_type": "code",
      "source": [
        "#Enter you cipher text below (only numbers allowed):\n",
        "#Please try to limit it to 1000 chars!\n",
        "cipher_text = \"3245436348239573496035467534536457\"\n",
        "\n",
        "\n",
        "\n",
        "#formatting\n",
        "cipher_text = cipher_text.replace(\" \", \"\").upper()\n",
        "cipher_text = re.sub(r'\\d', '', cipher_text)\n",
        "if len(cipher_text) >= 1000:\n",
        "  cipher_text = cipher_text[0:1000]\n",
        "cipher_encoded = []\n",
        "encoding = cipher_text + (\"X\"*(1000-len(cipher_text)))\n",
        "encoding = [-1 if item == \"X\" else int(item) for item in list(encoding)]\n",
        "cipher_encoded = torch.tensor(encoding,dtype=torch.float32).to(torch.device('cpu'))\n"
      ],
      "metadata": {
        "id": "1vDyRxUYsfYJ"
      },
      "execution_count": 34,
      "outputs": []
    },
    {
      "cell_type": "code",
      "source": [
        "ciphers = [\"Grandpre\", \"MonomeDinome\", \"Morbit\", \"Pollux\", \"Checkerboard\", \"Nihlist\", \"Tridigital\", \"Homophonic\", \"Letters to Numbers\", \"Polybius Square\", \"Random ints\"]\n",
        "\n",
        "model.eval()\n",
        "out = \"\"\n",
        "with torch.no_grad():\n",
        "  out = model(cipher_encoded)\n",
        "  for index, number in enumerate(out[0]):\n",
        "    print(f\"{ciphers[index]} : {number:.2f}\")"
      ],
      "metadata": {
        "colab": {
          "base_uri": "https://localhost:8080/"
        },
        "id": "Igzc7JaGzoKK",
        "outputId": "51a8fa4c-0b6f-4aa3-8633-fe537d5ae271"
      },
      "execution_count": 35,
      "outputs": [
        {
          "output_type": "stream",
          "name": "stdout",
          "text": [
            "Grandpre : 0.00\n",
            "MonomeDinome : 0.01\n",
            "Morbit : -0.00\n",
            "Pollux : 0.00\n",
            "Checkerboard : -0.01\n",
            "Nihlist : -0.00\n",
            "Tridigital : 0.00\n",
            "Homophonic : -0.00\n",
            "Letters to Numbers : 0.01\n",
            "Polybius Square : 1.02\n",
            "Random ints : -0.01\n"
          ]
        }
      ]
    },
    {
      "cell_type": "code",
      "source": [
        "\"\"\""
      ],
      "metadata": {
        "id": "6Fily7k_z_wW"
      },
      "execution_count": null,
      "outputs": []
    }
  ]
}