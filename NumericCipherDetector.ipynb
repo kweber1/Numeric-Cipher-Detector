{
  "nbformat": 4,
  "nbformat_minor": 0,
  "metadata": {
    "colab": {
      "provenance": [],
      "include_colab_link": true
    },
    "kernelspec": {
      "name": "python3",
      "display_name": "Python 3"
    },
    "language_info": {
      "name": "python"
    }
  },
  "cells": [
    {
      "cell_type": "markdown",
      "metadata": {
        "id": "view-in-github",
        "colab_type": "text"
      },
      "source": [
        "<a href=\"https://colab.research.google.com/github/kweber1/NumericCipherDetector/blob/main/NumericCipherDetector.ipynb\" target=\"_parent\"><img src=\"https://colab.research.google.com/assets/colab-badge.svg\" alt=\"Open In Colab\"/></a>"
      ]
    },
    {
      "cell_type": "code",
      "execution_count": 1,
      "metadata": {
        "colab": {
          "base_uri": "https://localhost:8080/"
        },
        "id": "6Q2DC7Iur-zM",
        "outputId": "db3eb4fb-6d86-404e-de8c-d222361f7775"
      },
      "outputs": [
        {
          "output_type": "stream",
          "name": "stdout",
          "text": [
            "Requirement already satisfied: scipy in /usr/local/lib/python3.10/dist-packages (1.13.1)\n",
            "Requirement already satisfied: numpy<2.3,>=1.22.4 in /usr/local/lib/python3.10/dist-packages (from scipy) (1.26.4)\n",
            "Requirement already satisfied: torch in /usr/local/lib/python3.10/dist-packages (2.4.1+cu121)\n",
            "Requirement already satisfied: torchaudio in /usr/local/lib/python3.10/dist-packages (2.4.1+cu121)\n",
            "Requirement already satisfied: torchvision in /usr/local/lib/python3.10/dist-packages (0.19.1+cu121)\n",
            "Collecting torchtext\n",
            "  Downloading torchtext-0.18.0-cp310-cp310-manylinux1_x86_64.whl.metadata (7.9 kB)\n",
            "Collecting torchdata\n",
            "  Downloading torchdata-0.8.0-cp310-cp310-manylinux1_x86_64.whl.metadata (5.4 kB)\n",
            "Requirement already satisfied: filelock in /usr/local/lib/python3.10/dist-packages (from torch) (3.16.1)\n",
            "Requirement already satisfied: typing-extensions>=4.8.0 in /usr/local/lib/python3.10/dist-packages (from torch) (4.12.2)\n",
            "Requirement already satisfied: sympy in /usr/local/lib/python3.10/dist-packages (from torch) (1.13.3)\n",
            "Requirement already satisfied: networkx in /usr/local/lib/python3.10/dist-packages (from torch) (3.3)\n",
            "Requirement already satisfied: jinja2 in /usr/local/lib/python3.10/dist-packages (from torch) (3.1.4)\n",
            "Requirement already satisfied: fsspec in /usr/local/lib/python3.10/dist-packages (from torch) (2024.6.1)\n",
            "Requirement already satisfied: numpy in /usr/local/lib/python3.10/dist-packages (from torchvision) (1.26.4)\n",
            "Requirement already satisfied: pillow!=8.3.*,>=5.3.0 in /usr/local/lib/python3.10/dist-packages (from torchvision) (10.4.0)\n",
            "Requirement already satisfied: tqdm in /usr/local/lib/python3.10/dist-packages (from torchtext) (4.66.5)\n",
            "Requirement already satisfied: requests in /usr/local/lib/python3.10/dist-packages (from torchtext) (2.32.3)\n",
            "Requirement already satisfied: urllib3>=1.25 in /usr/local/lib/python3.10/dist-packages (from torchdata) (2.2.3)\n",
            "Requirement already satisfied: MarkupSafe>=2.0 in /usr/local/lib/python3.10/dist-packages (from jinja2->torch) (2.1.5)\n",
            "Requirement already satisfied: charset-normalizer<4,>=2 in /usr/local/lib/python3.10/dist-packages (from requests->torchtext) (3.3.2)\n",
            "Requirement already satisfied: idna<4,>=2.5 in /usr/local/lib/python3.10/dist-packages (from requests->torchtext) (3.10)\n",
            "Requirement already satisfied: certifi>=2017.4.17 in /usr/local/lib/python3.10/dist-packages (from requests->torchtext) (2024.8.30)\n",
            "Requirement already satisfied: mpmath<1.4,>=1.1.0 in /usr/local/lib/python3.10/dist-packages (from sympy->torch) (1.3.0)\n",
            "Downloading torchtext-0.18.0-cp310-cp310-manylinux1_x86_64.whl (2.0 MB)\n",
            "\u001b[2K   \u001b[90m━━━━━━━━━━━━━━━━━━━━━━━━━━━━━━━━━━━━━━━━\u001b[0m \u001b[32m2.0/2.0 MB\u001b[0m \u001b[31m27.3 MB/s\u001b[0m eta \u001b[36m0:00:00\u001b[0m\n",
            "\u001b[?25hDownloading torchdata-0.8.0-cp310-cp310-manylinux1_x86_64.whl (2.7 MB)\n",
            "\u001b[2K   \u001b[90m━━━━━━━━━━━━━━━━━━━━━━━━━━━━━━━━━━━━━━━━\u001b[0m \u001b[32m2.7/2.7 MB\u001b[0m \u001b[31m45.3 MB/s\u001b[0m eta \u001b[36m0:00:00\u001b[0m\n",
            "\u001b[?25hInstalling collected packages: torchtext, torchdata\n",
            "Successfully installed torchdata-0.8.0 torchtext-0.18.0\n",
            "Cloning into 'NumericCipherDetector'...\n",
            "remote: Enumerating objects: 33, done.\u001b[K\n",
            "remote: Counting objects: 100% (30/30), done.\u001b[K\n",
            "remote: Compressing objects: 100% (28/28), done.\u001b[K\n",
            "remote: Total 33 (delta 11), reused 8 (delta 1), pack-reused 3 (from 1)\u001b[K\n",
            "Receiving objects: 100% (33/33), 44.87 MiB | 23.88 MiB/s, done.\n",
            "Resolving deltas: 100% (11/11), done.\n",
            "Downloading...\n",
            "From (original): https://drive.google.com/uc?id=1k0askL3jEhCijb5fqyRm-9Tl2GdgkMel\n",
            "From (redirected): https://drive.google.com/uc?id=1k0askL3jEhCijb5fqyRm-9Tl2GdgkMel&confirm=t&uuid=68f33ab1-5a1b-4468-a5ff-bc002b8f0e0e\n",
            "To: /content/NumericCipherDetector/Transformer_11_out_1\n",
            "100% 170M/170M [00:02<00:00, 61.8MB/s]\n"
          ]
        },
        {
          "output_type": "stream",
          "name": "stderr",
          "text": [
            "<ipython-input-1-6214a239d708>:12: FutureWarning: You are using `torch.load` with `weights_only=False` (the current default value), which uses the default pickle module implicitly. It is possible to construct malicious pickle data which will execute arbitrary code during unpickling (See https://github.com/pytorch/pytorch/blob/main/SECURITY.md#untrusted-models for more details). In a future release, the default value for `weights_only` will be flipped to `True`. This limits the functions that could be executed during unpickling. Arbitrary objects will no longer be allowed to be loaded via this mode unless they are explicitly allowlisted by the user via `torch.serialization.add_safe_globals`. We recommend you start setting `weights_only=True` for any use case where you don't have full control of the loaded file. Please open an issue on GitHub for any issues related to this experimental feature.\n",
            "  model = torch.load(\"NumericCipherDetector/Transformer_11_out_1\", map_location=torch.device('cpu'))\n"
          ]
        }
      ],
      "source": [
        "#install packages and load model\n",
        "\n",
        "%pip install scipy\n",
        "!pip3 install torch torchaudio torchvision torchtext torchdata\n",
        "!git clone https://github.com/kweber1/NumericCipherDetector.git\n",
        "!gdown --fuzzy \"https://drive.google.com/file/d/1k0askL3jEhCijb5fqyRm-9Tl2GdgkMel/view?usp=sharing\" -O \"NumericCipherDetector/Transformer_11_out_1\"\n",
        "import torch\n",
        "import re\n",
        "from NumericCipherDetector.CipherTransformer import CipherTransformer\n",
        "import numpy as np\n",
        "from NumericCipherDetector.CipherTransformer import get_stats\n",
        "model = torch.load(\"NumericCipherDetector/Transformer_11_out_1\", map_location=torch.device('cpu'))\n"
      ]
    },
    {
      "cell_type": "code",
      "source": [
        "#Enter you cipher text below (only numbers allowed):\n",
        "#Please try to limit it to 1000 chars!\n",
        "cipher_text = \"050423011804 0119 251521 11141523 0920 0919 09131605180120092205 251521 011404 200805 0718152116 06091404 200805 0524010320 2205181909151419 1506 25152118190512220519 20080120 09 08012205 0809070812090708200504 0914 05010308 2114092205181905 15141225 0225 11091212091407 20080120 22051819091514 1506 2515211819051206 0914 20080120 16011820090321120118 2114092205181905 0120 20080120 16011820090321120118 131513051420 0914 20091305 23091212 2305 0205 19210303051919062112 15140305 05010308 1506 25152118 1520080518 190512220519 011805 110912120504 010318151919 011212 211409220518190519 1805130513020518 2305 011805 15141225 091313211405 02050301211905 2305 151605140504 200805 161518200112 0914 061801140305 022120 09 0113 010618010904 20080919 1309070820 141520 0205 160518130114051420 09 06050118 2008051805 0919 191513052008091407 13 091914 20 20051212091407 1305 011404 20080120 2008051805 0919 141520 13210308 20091305 12050620 061518 2119\"\n",
        "\n",
        "\n",
        "\n",
        "#formatting\n",
        "cipher_text = cipher_text.replace(\" \", \"\").upper()\n",
        "cipher_text = re.sub('\\D', '', cipher_text)\n",
        "print(\"Your cleaned text: \", cipher_text + \"\\n\\n\")\n",
        "if len(cipher_text) >= 1000:\n",
        "  cipher_text = cipher_text[0:1000]\n",
        "cipher_encoded = []\n",
        "encoding = cipher_text + (\"X\"*(1000-len(cipher_text)))\n",
        "encoding = [-1 if item == \"X\" else int(item) for item in list(encoding)]\n",
        "cipher_encoded = [torch.tensor(encoding,dtype=torch.float32).to(torch.device('cpu')),torch.tensor(get_stats(encoding),dtype=torch.float32).to(torch.device('cpu'))]\n",
        "\n",
        "ciphers = [\"Grandpre-6X6\",\"Grandpre-7X7\",\"Grandpre-8X8\",\"Grandpre-9X9\",\"Grandpre-10X10\", \"MonomeDinome-3X10\",\"MonomeDinome-3X8\", \"Morbit\", \"Pollux\", \"Checkerboard\", \"Nihlist\",\"Nihlist mod 100\", \"Tridigital\", \"Homophonic Dcode\",\"Homophonic DE\",\"Homophonic random freq\", \"Letters to Numbers\", \"Polybius Square\",\"VIC\",\"Random ints\"]\n",
        "model.eval()\n",
        "out = \"\"\n",
        "with torch.no_grad():\n",
        "  out = model(cipher_encoded[0],cipher_encoded[1])\n",
        "  for index, number in enumerate(out):\n",
        "    print(f\"{ciphers[index]} : {number:.2f}\")\n",
        "print(\"\\n\\n----------------\\n\\n\")\n",
        "print(\"Top 4 cipher types:\")\n",
        "print(\"\\n\".join([ciphers[x] for x in np.argsort(-np.array(out))[0:4]]))\n"
      ],
      "metadata": {
        "id": "1vDyRxUYsfYJ",
        "outputId": "1c8e62ba-23c8-4d34-d3b7-e7d154cc2dab",
        "colab": {
          "base_uri": "https://localhost:8080/"
        }
      },
      "execution_count": 3,
      "outputs": [
        {
          "output_type": "stream",
          "name": "stdout",
          "text": [
            "Your cleaned text:  05042301180401192515211114152309200919091316051801200922052515210114042008050718152116060914042008050524010320220518190915141915062515211819051222051920080120090801220508090708120907082005040914050103082114092205181905151412250225110912120914072008012022051819091514150625152118190512060914200801201601182009032112011821140922051819050120200801201601182009032112011813151305142009142009130523091212230502051921030305191906211215140305050103081506251521181520080518190512220519011805110912120504010318151919011212211409220518190519180513051302051823050118051514122509131321140502050301211905230515160514050420080516151820011209140618011403050221200901130106180109042008091913090708201415200205160518130114051420090605011820080518050919191513052008091407130919142020051212091407130501140420080120200805180509191415201321030820091305120506200615182119\n",
            "\n",
            "\n",
            "Grandpre-6X6 : -0.00\n",
            "Grandpre-7X7 : 0.01\n",
            "Grandpre-8X8 : -0.02\n",
            "Grandpre-9X9 : -0.00\n",
            "Grandpre-10X10 : 0.02\n",
            "MonomeDinome-3X10 : 0.21\n",
            "MonomeDinome-3X8 : 0.08\n",
            "Morbit : -0.01\n",
            "Pollux : 0.00\n",
            "Checkerboard : -0.01\n",
            "Nihlist : -0.00\n",
            "Nihlist mod 100 : -0.05\n",
            "Tridigital : -0.08\n",
            "Homophonic Dcode : 0.01\n",
            "Homophonic DE : -0.01\n",
            "Homophonic random freq : -0.19\n",
            "Letters to Numbers : 1.41\n",
            "Polybius Square : 0.01\n",
            "VIC : -0.05\n",
            "Random ints : -0.08\n",
            "\n",
            "\n",
            "----------------\n",
            "\n",
            "\n",
            "Top 4 cipher types:\n",
            "Letters to Numbers\n",
            "MonomeDinome-3X10\n",
            "MonomeDinome-3X8\n",
            "Grandpre-10X10\n"
          ]
        }
      ]
    }
  ]
}